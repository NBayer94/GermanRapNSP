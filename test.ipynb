{
 "cells": [
  {
   "cell_type": "code",
   "execution_count": 4,
   "metadata": {},
   "outputs": [],
   "source": [
    "import predict\n",
    "import config"
   ]
  },
  {
   "cell_type": "code",
   "execution_count": 5,
   "metadata": {},
   "outputs": [],
   "source": [
    "model = predict.get_prediction_model(config.model_path)"
   ]
  },
  {
   "cell_type": "code",
   "execution_count": 6,
   "metadata": {},
   "outputs": [
    {
     "data": {
      "text/plain": [
       "'in der hood gehn gees geduckt denn kollegah ballert jeden tag rum žutte, ähm, dank makale sich kraes ficken auf eure ersten cashfreshe tobenden straßen mit uzi im maximus kommt um rapper ausgenefle aus ist wie felten eure sahqung wie beträchten sie sihmen ist unbesteuen du bist wie karast hab ich immer noch kollegah, f money nimm ernstimkt, bitch, du bist ein schatzen welt getroffen woran nix macht euch, bange dann blick auf auf die heulen schlechte hat, frei in die masse wie die aldern forientiert doch crack an sex mit deiner rimpistung einen milliarden im mo'"
      ]
     },
     "execution_count": 6,
     "metadata": {},
     "output_type": "execute_result"
    }
   ],
   "source": [
    "predict.generate_text(model, 'in der hood gehn gees geduckt denn kollegah ballert jeden tag rum ', gen_size=500)"
   ]
  },
  {
   "cell_type": "code",
   "execution_count": 7,
   "metadata": {},
   "outputs": [],
   "source": [
    "predict.generate_text(model, 'in der hood gehn gees geduckt denn kollegah ballert jeden tag rum ', gen_size=500)"
   ]
  }
 ],
 "metadata": {
  "interpreter": {
   "hash": "56a3ed3f63da368c3f6794196fdc18657155a3ef292dfc7a1e7cb9fd1403600f"
  },
  "kernelspec": {
   "display_name": "Python 3.9.7 64-bit ('tf-gpu': conda)",
   "language": "python",
   "name": "python3"
  },
  "language_info": {
   "codemirror_mode": {
    "name": "ipython",
    "version": 3
   },
   "file_extension": ".py",
   "mimetype": "text/x-python",
   "name": "python",
   "nbconvert_exporter": "python",
   "pygments_lexer": "ipython3",
   "version": "3.9.7"
  },
  "orig_nbformat": 4
 },
 "nbformat": 4,
 "nbformat_minor": 2
}
