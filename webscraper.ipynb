{
 "cells": [
  {
   "cell_type": "code",
   "execution_count": 1,
   "metadata": {},
   "outputs": [],
   "source": [
    "from webscraper import get_lyrics"
   ]
  },
  {
   "cell_type": "code",
   "execution_count": 2,
   "metadata": {},
   "outputs": [
    {
     "name": "stdout",
     "output_type": "stream",
     "text": [
      "Searching for songs by Kollegah...\n",
      "\n",
      "Song 1: \"Mondfinsternis\"\n",
      "Song 2: \"Bossaura\"\n",
      "Song 3: \"King\"\n",
      "Song 4: \"John Gotti\"\n",
      "Song 5: \"Alpha\"\n",
      "Song 6: \"Legacy\"\n",
      "Song 7: \"Genozid\"\n",
      "Song 8: \"AKs im Wandschrank\"\n",
      "Song 9: \"Du bist Boss\"\n",
      "Song 10: \"Angeberprollrap Infinity (Outro)\"\n",
      "\n",
      "Reached user-specified song limit (10).\n",
      "Done. Found 10 songs.\n"
     ]
    }
   ],
   "source": [
    "lyrics = get_lyrics('Kollegah', 10)"
   ]
  },
  {
   "cell_type": "code",
   "execution_count": 5,
   "metadata": {},
   "outputs": [
    {
     "data": {
      "text/plain": [
       "\"Yeah! Yeah, ey, ah!  Laden, entsichern und anvisier'n, ich komm' und erkenne die Angst in dir Denn du weißt, ich baller' die tödlichen Zeilen raus, die dann das ganze Land zitiert Rapper steh'n da, transpirier'n, geht meine Felgen polieren Ich eliminiere die Hälfte der Rapper der Welt, dominiere von Zentrum bis Randbezirk Ich bin die Zukunft, der Rest, er bleibt antiquiert, du bietest mir mutig zum Kampf die Stirn Sie wird mit 'nem Autogramm verziert – handsigniert, bedank dich bei mir Deine Crew-Member seh'n mich und salutier'n Während die Bitches von ihnen im Bett meiner Villa mal eben die Beine für mich auseinandermachen wie beim Amputier'n Kid, ich roll' in dem Benz, schillerndes Chrom, Felgen, die schein'n wie am Himmel der Mond Jet-Skis, Villen in Rom, und Nutte, du sprichst mit dem King Der die Scheine stapelt, Rapper zerfickt und dann ihre Weiber nagelt Den in Sachen Punchlines keiner schlägt, als sei er Abel Sieh mich mit Hundert-Dollar-Bills die Blunts dreh'n, mit Schotter aus der Bank geh'n Bosshaft im Testarossa durch das Land fegen Wenn Opfer das mit anseh'n, hab'n sie danach mehr Komplexe Als mein schlossartiges Anwesen in Costa Ricas Strandgegend (yeah) Jetzt hol'n selbst Atheisten Rosenkränze raus Denn die Bossaura löst bei ihnen Todesängste aus Mehr Groupies und Hater (Hater) als Julius Cäsar Hoes sagen: „Ich wünschte, mein Freund wäre so cool wie Kollegah.“, denn er ist—  King! Lorbeerkränze, die mein Haupt zieren King! Ich habe Raubtiere als Haustiere King! Ich gebe den Bitches, was die Bitches verdienen Hab' nie die Zukunft gelesen, sondern Geschichte geschrieben Denn ich bin King! Lorbeerkränze, die mein Haupt zieren King! Ich habe Raubtiere als Haustiere King! Ich fickte die Szene und war jung und stürmisch Heute bin ich King und jeder redet mit mir unterwürfig  Laden, entsichern und wegballern, Rapper sind alle nur Dreck, Alter K zu dem O, der Mac in dem Geschäft, ich zerfetze per MAC-10 dein Cap, Alter Yeah, back in dem Game, Platinum-Ringe, 'ne Menge Cocaine Status des Kings, glänzende Chain, K zu dem I zu dem N zu dem G Goldenes Bentley-Emblem, unangezweifelter Boss-Status Dein Team hat mehr Nieten als Rockerclubs, ich beende dein Leben per Shotgun-Schuss Rambo-Mimik, neonfarbene Lamborghinis Du willst Beef, ich komm' an und zerlege mit der Dschungel-Machete dein Kampfsport-Team, Bitch Deutschrap ist nur'n Haufen cock-blasender Toys Ich bin der Godfather wie Zeus, fahre bossartig im Royce Und schieß' mit Pumpguns umher Denn Wack-Rapper in Deutschland gibt's wie Sand an 'nem Meer in Guantanamera Ich bin King und es gibt kein'n in der Thronfolge Widerspruch ist nicht vernehmbar wie'n von mir beseitigter Kronzeuge Alleinige Dominanz, keiner der Rapper kann gegen den Boss aller Bosse gewinnen Ich komm' und demütige jeden, der sich in den Weg stellt, denn ich bin der—  King! Lorbeerkränze, die mein Haupt zieren King! Ich habe Raubtiere als Haustiere King! Ich gebe den Bitches, was die Bitches verdienen Hab' nie die Zukunft gelesen, sondern Geschichte geschrieben Denn ich bin King! Lorbeerkränze, die mein Haupt zieren King! Ich habe Raubtiere als Haustiere King! Ich fickte die Szene und war jung und stürmisch Heute bin ich King und jeder redet mit mir unterwürfig  Jetzt ist der Straßenboss hier, ey, wenn mir mal jemand Meine Visage poliert, dann an der Statue von mir Und jetzt sieh dir diese Poser an, die früher Deutschrap regierten Aber heute verlieren, so wie Kobraschlang'n Denn jeder, der mich stoppen will, kriecht nach dem Fight Auf allen Vieren aus dem Ring wie das Mädchen in dem Horrorfilm Ah, ich bin die Zukunft, Mann Und eröffne das Kreuzfeuer wie der Ku-Klux-Klan Denn ich bin King, King, King, King—\""
      ]
     },
     "execution_count": 5,
     "metadata": {},
     "output_type": "execute_result"
    }
   ],
   "source": [
    "lyrics[2].replace('\\n', ' ')"
   ]
  }
 ],
 "metadata": {
  "interpreter": {
   "hash": "51e855903d239ed6aedc72c594fb26424f80a9bcb9a0cb7b7738ca9e211f1d32"
  },
  "kernelspec": {
   "display_name": "Python 3.8.12 64-bit ('nlp': conda)",
   "name": "python3"
  },
  "language_info": {
   "codemirror_mode": {
    "name": "ipython",
    "version": 3
   },
   "file_extension": ".py",
   "mimetype": "text/x-python",
   "name": "python",
   "nbconvert_exporter": "python",
   "pygments_lexer": "ipython3",
   "version": "3.8.12"
  },
  "orig_nbformat": 4
 },
 "nbformat": 4,
 "nbformat_minor": 2
}
